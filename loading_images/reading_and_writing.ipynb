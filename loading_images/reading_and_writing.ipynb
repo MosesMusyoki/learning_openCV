{
 "cells": [
  {
   "cell_type": "code",
   "execution_count": 1,
   "id": "d8c1e43a",
   "metadata": {},
   "outputs": [],
   "source": [
    "#import opencv\n",
    "import cv2"
   ]
  },
  {
   "cell_type": "code",
   "execution_count": 2,
   "id": "b2953372",
   "metadata": {},
   "outputs": [],
   "source": [
    "# read the image\n",
    "image = cv2.imread(\"images/giraffe-Kenya.png\")"
   ]
  },
  {
   "cell_type": "code",
   "execution_count": 3,
   "id": "c44c9030",
   "metadata": {},
   "outputs": [
    {
     "name": "stdout",
     "output_type": "stream",
     "text": [
      "Image loaded successfully.\n"
     ]
    }
   ],
   "source": [
    "# check if image is loaded successfully\n",
    "\n",
    "if image is None:\n",
    "    print(\"Error : Cound not load the image.\")\n",
    "else:\n",
    "    print(\"Image loaded successfully.\")"
   ]
  },
  {
   "cell_type": "code",
   "execution_count": null,
   "id": "94f6f065",
   "metadata": {},
   "outputs": [],
   "source": [
    "# display the image\n",
    "cv2.imshow(\"Image Window\", image)\n",
    "\n",
    "# cv2.waitkey() is used to hold the window on screen\n",
    "cv2.waitKey(0)\n",
    "\n",
    "# It is for deleting created GUI window from screen and memory\n",
    "cv2.destroyAllWindows()"
   ]
  },
  {
   "cell_type": "code",
   "execution_count": 5,
   "id": "049b6e69",
   "metadata": {},
   "outputs": [
    {
     "data": {
      "text/plain": [
       "True"
      ]
     },
     "execution_count": 5,
     "metadata": {},
     "output_type": "execute_result"
    }
   ],
   "source": [
    "# write the image\n",
    "image_new = image + 30\n",
    "#use imwrite() to write the new image\n",
    "cv2.imwrite(\"images/output.jpg\", image_new)"
   ]
  }
 ],
 "metadata": {
  "kernelspec": {
   "display_name": "prac",
   "language": "python",
   "name": "python3"
  },
  "language_info": {
   "codemirror_mode": {
    "name": "ipython",
    "version": 3
   },
   "file_extension": ".py",
   "mimetype": "text/x-python",
   "name": "python",
   "nbconvert_exporter": "python",
   "pygments_lexer": "ipython3",
   "version": "3.11.11"
  }
 },
 "nbformat": 4,
 "nbformat_minor": 5
}
